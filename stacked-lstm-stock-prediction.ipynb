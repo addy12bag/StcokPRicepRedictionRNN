{
 "cells": [
  {
   "cell_type": "markdown",
   "metadata": {},
   "source": [
    "   \n",
    "    \n",
    "1. Importing Modules\n",
    "    \n",
    "2. Loading Data\n",
    "    \n",
    "3. Data PreProcessing \n",
    "       \n",
    "4. Modelling With LSTM And Tuning The Hyperparameters \n",
    "    \n",
    "5. Results And Conclusion"
   ]
  },
  {
   "cell_type": "code",
   "execution_count": 2,
   "metadata": {
    "execution": {
     "iopub.execute_input": "2022-03-02T17:07:12.252617Z",
     "iopub.status.busy": "2022-03-02T17:07:12.252338Z",
     "iopub.status.idle": "2022-03-02T17:07:12.258952Z",
     "shell.execute_reply": "2022-03-02T17:07:12.258183Z",
     "shell.execute_reply.started": "2022-03-02T17:07:12.252585Z"
    },
    "trusted": true
   },
   "outputs": [],
   "source": [
    "\n",
    "import numpy as np # linear algebra\n",
    "import pandas as pd # data processing, CSV file I/O (e.g. pd.read_csv)\n",
    "import matplotlib.pyplot as plt\n",
    "from tensorflow.keras.models import Sequential\n",
    "from tensorflow.keras.layers import Dense, Dropout,LSTM\n",
    "import numpy as np\n",
    "from sklearn.preprocessing import MinMaxScaler\n",
    "import math\n",
    "from sklearn.metrics import mean_squared_error\n",
    "from kerastuner.engine.hyperparameters import HyperParameters\n",
    "from tensorflow import keras\n",
    "from tensorflow.keras import layers\n",
    "from kerastuner.tuners import RandomSearch\n"
   ]
  },
  {
   "cell_type": "code",
   "execution_count": null,
   "metadata": {
    "execution": {
     "iopub.execute_input": "2022-03-02T17:07:12.261258Z",
     "iopub.status.busy": "2022-03-02T17:07:12.260946Z",
     "iopub.status.idle": "2022-03-02T17:07:12.290573Z",
     "shell.execute_reply": "2022-03-02T17:07:12.289934Z",
     "shell.execute_reply.started": "2022-03-02T17:07:12.261218Z"
    },
    "trusted": true
   },
   "outputs": [],
   "source": [
    "#Loading The Data\n",
    "df_train = pd.read_csv(\"../input/gooogle-stock-price/Google_Stock_Price_Train.csv\")\n"
   ]
  },
  {
   "cell_type": "code",
   "execution_count": 4,
   "metadata": {
    "execution": {
     "iopub.execute_input": "2022-03-02T17:07:12.292208Z",
     "iopub.status.busy": "2022-03-02T17:07:12.291822Z",
     "iopub.status.idle": "2022-03-02T17:07:12.323149Z",
     "shell.execute_reply": "2022-03-02T17:07:12.322232Z",
     "shell.execute_reply.started": "2022-03-02T17:07:12.292166Z"
    },
    "trusted": true
   },
   "outputs": [
    {
     "data": {
      "text/html": [
       "<div>\n",
       "<style scoped>\n",
       "    .dataframe tbody tr th:only-of-type {\n",
       "        vertical-align: middle;\n",
       "    }\n",
       "\n",
       "    .dataframe tbody tr th {\n",
       "        vertical-align: top;\n",
       "    }\n",
       "\n",
       "    .dataframe thead th {\n",
       "        text-align: right;\n",
       "    }\n",
       "</style>\n",
       "<table border=\"1\" class=\"dataframe\">\n",
       "  <thead>\n",
       "    <tr style=\"text-align: right;\">\n",
       "      <th></th>\n",
       "      <th>Date</th>\n",
       "      <th>Open</th>\n",
       "      <th>High</th>\n",
       "      <th>Low</th>\n",
       "      <th>Close</th>\n",
       "      <th>Volume</th>\n",
       "    </tr>\n",
       "  </thead>\n",
       "  <tbody>\n",
       "    <tr>\n",
       "      <th>0</th>\n",
       "      <td>1/3/2012</td>\n",
       "      <td>325.25</td>\n",
       "      <td>332.83</td>\n",
       "      <td>324.97</td>\n",
       "      <td>663.59</td>\n",
       "      <td>7,380,500</td>\n",
       "    </tr>\n",
       "    <tr>\n",
       "      <th>1</th>\n",
       "      <td>1/4/2012</td>\n",
       "      <td>331.27</td>\n",
       "      <td>333.87</td>\n",
       "      <td>329.08</td>\n",
       "      <td>666.45</td>\n",
       "      <td>5,749,400</td>\n",
       "    </tr>\n",
       "    <tr>\n",
       "      <th>2</th>\n",
       "      <td>1/5/2012</td>\n",
       "      <td>329.83</td>\n",
       "      <td>330.75</td>\n",
       "      <td>326.89</td>\n",
       "      <td>657.21</td>\n",
       "      <td>6,590,300</td>\n",
       "    </tr>\n",
       "    <tr>\n",
       "      <th>3</th>\n",
       "      <td>1/6/2012</td>\n",
       "      <td>328.34</td>\n",
       "      <td>328.77</td>\n",
       "      <td>323.68</td>\n",
       "      <td>648.24</td>\n",
       "      <td>5,405,900</td>\n",
       "    </tr>\n",
       "    <tr>\n",
       "      <th>4</th>\n",
       "      <td>1/9/2012</td>\n",
       "      <td>322.04</td>\n",
       "      <td>322.29</td>\n",
       "      <td>309.46</td>\n",
       "      <td>620.76</td>\n",
       "      <td>11,688,800</td>\n",
       "    </tr>\n",
       "    <tr>\n",
       "      <th>...</th>\n",
       "      <td>...</td>\n",
       "      <td>...</td>\n",
       "      <td>...</td>\n",
       "      <td>...</td>\n",
       "      <td>...</td>\n",
       "      <td>...</td>\n",
       "    </tr>\n",
       "    <tr>\n",
       "      <th>1253</th>\n",
       "      <td>12/23/2016</td>\n",
       "      <td>790.90</td>\n",
       "      <td>792.74</td>\n",
       "      <td>787.28</td>\n",
       "      <td>789.91</td>\n",
       "      <td>623,400</td>\n",
       "    </tr>\n",
       "    <tr>\n",
       "      <th>1254</th>\n",
       "      <td>12/27/2016</td>\n",
       "      <td>790.68</td>\n",
       "      <td>797.86</td>\n",
       "      <td>787.66</td>\n",
       "      <td>791.55</td>\n",
       "      <td>789,100</td>\n",
       "    </tr>\n",
       "    <tr>\n",
       "      <th>1255</th>\n",
       "      <td>12/28/2016</td>\n",
       "      <td>793.70</td>\n",
       "      <td>794.23</td>\n",
       "      <td>783.20</td>\n",
       "      <td>785.05</td>\n",
       "      <td>1,153,800</td>\n",
       "    </tr>\n",
       "    <tr>\n",
       "      <th>1256</th>\n",
       "      <td>12/29/2016</td>\n",
       "      <td>783.33</td>\n",
       "      <td>785.93</td>\n",
       "      <td>778.92</td>\n",
       "      <td>782.79</td>\n",
       "      <td>744,300</td>\n",
       "    </tr>\n",
       "    <tr>\n",
       "      <th>1257</th>\n",
       "      <td>12/30/2016</td>\n",
       "      <td>782.75</td>\n",
       "      <td>782.78</td>\n",
       "      <td>770.41</td>\n",
       "      <td>771.82</td>\n",
       "      <td>1,770,000</td>\n",
       "    </tr>\n",
       "  </tbody>\n",
       "</table>\n",
       "<p>1258 rows × 6 columns</p>\n",
       "</div>"
      ],
      "text/plain": [
       "            Date    Open    High     Low   Close      Volume\n",
       "0       1/3/2012  325.25  332.83  324.97  663.59   7,380,500\n",
       "1       1/4/2012  331.27  333.87  329.08  666.45   5,749,400\n",
       "2       1/5/2012  329.83  330.75  326.89  657.21   6,590,300\n",
       "3       1/6/2012  328.34  328.77  323.68  648.24   5,405,900\n",
       "4       1/9/2012  322.04  322.29  309.46  620.76  11,688,800\n",
       "...          ...     ...     ...     ...     ...         ...\n",
       "1253  12/23/2016  790.90  792.74  787.28  789.91     623,400\n",
       "1254  12/27/2016  790.68  797.86  787.66  791.55     789,100\n",
       "1255  12/28/2016  793.70  794.23  783.20  785.05   1,153,800\n",
       "1256  12/29/2016  783.33  785.93  778.92  782.79     744,300\n",
       "1257  12/30/2016  782.75  782.78  770.41  771.82   1,770,000\n",
       "\n",
       "[1258 rows x 6 columns]"
      ]
     },
     "execution_count": 4,
     "metadata": {},
     "output_type": "execute_result"
    }
   ],
   "source": [
    "df_train"
   ]
  },
  {
   "cell_type": "code",
   "execution_count": null,
   "metadata": {
    "execution": {
     "iopub.execute_input": "2022-03-02T17:07:12.324908Z",
     "iopub.status.busy": "2022-03-02T17:07:12.324398Z",
     "iopub.status.idle": "2022-03-02T17:07:12.337915Z",
     "shell.execute_reply": "2022-03-02T17:07:12.336955Z",
     "shell.execute_reply.started": "2022-03-02T17:07:12.324860Z"
    },
    "trusted": true
   },
   "outputs": [
    {
     "data": {
      "text/plain": [
       "0    663.59\n",
       "1    666.45\n",
       "2    657.21\n",
       "3    648.24\n",
       "4    620.76\n",
       "Name: Close, dtype: float64"
      ]
     },
     "execution_count": 5,
     "metadata": {},
     "output_type": "execute_result"
    }
   ],
   "source": [
    "# Data Preprocessing\n",
    "df_closing = df_train['Close'].apply(lambda x : x.replace(',', '')).astype('float')\n",
    "df_closing.head()"
   ]
  },
  {
   "cell_type": "code",
   "execution_count": 6,
   "metadata": {
    "execution": {
     "iopub.execute_input": "2022-03-02T17:07:12.339828Z",
     "iopub.status.busy": "2022-03-02T17:07:12.339557Z",
     "iopub.status.idle": "2022-03-02T17:07:12.844346Z",
     "shell.execute_reply": "2022-03-02T17:07:12.843382Z",
     "shell.execute_reply.started": "2022-03-02T17:07:12.339798Z"
    },
    "trusted": true
   },
   "outputs": [
    {
     "data": {
      "image/png": "[encoded data removed]",
      "text/plain": [
       "<Figure size 432x288 with 1 Axes>"
      ]
     },
     "metadata": {
      "needs_background": "light"
     },
     "output_type": "display_data"
    }
   ],
   "source": [
    "\n",
    "plt.plot(df_closing.values);\n",
    "plt.title(\"Closing prices for the data\");\n"
   ]
  },
  {
   "cell_type": "code",
   "execution_count": 7,
   "metadata": {
    "execution": {
     "iopub.execute_input": "2022-03-02T17:07:12.846332Z",
     "iopub.status.busy": "2022-03-02T17:07:12.846011Z",
     "iopub.status.idle": "2022-03-02T17:07:12.852355Z",
     "shell.execute_reply": "2022-03-02T17:07:12.851362Z",
     "shell.execute_reply.started": "2022-03-02T17:07:12.846290Z"
    },
    "trusted": true
   },
   "outputs": [],
   "source": [
    "# Scaling The Data\n",
    "scaler=MinMaxScaler(feature_range=(0,1))\n",
    "df_closing=scaler.fit_transform(np.array(df_closing).reshape(-1,1))"
   ]
  },
  {
   "cell_type": "code",
   "execution_count": 8,
   "metadata": {
    "execution": {
     "iopub.execute_input": "2022-03-02T17:07:12.854284Z",
     "iopub.status.busy": "2022-03-02T17:07:12.853861Z",
     "iopub.status.idle": "2022-03-02T17:07:12.862251Z",
     "shell.execute_reply": "2022-03-02T17:07:12.861179Z",
     "shell.execute_reply.started": "2022-03-02T17:07:12.854241Z"
    },
    "trusted": true
   },
   "outputs": [],
   "source": [
    "def create_dataset(dataset, time_step=1):\n",
    "    x_data, y_data = [], []\n",
    "    \n",
    "    for i in range(len(dataset)-time_step-1):\n",
    "        x_data.append(dataset[i:(i+time_step), 0])\n",
    "        y_data.append(dataset[i + time_step, 0])\n",
    "    return np.array(x_data), np.array(y_data)"
   ]
  },
  {
   "cell_type": "code",
   "execution_count": 9,
   "metadata": {
    "execution": {
     "iopub.execute_input": "2022-03-02T17:07:12.863671Z",
     "iopub.status.busy": "2022-03-02T17:07:12.863154Z",
     "iopub.status.idle": "2022-03-02T17:07:12.872974Z",
     "shell.execute_reply": "2022-03-02T17:07:12.872273Z",
     "shell.execute_reply.started": "2022-03-02T17:07:12.863634Z"
    },
    "trusted": true
   },
   "outputs": [],
   "source": [
    "# Preparing train and test data\n",
    "\n",
    "training_size=int(len(df_closing)*0.65)\n",
    "test_size=len(df_closing)-training_size\n",
    "train_data,test_data=df_closing[0:training_size,:],df_closing[training_size:len(df_closing),:1]"
   ]
  },
  {
   "cell_type": "code",
   "execution_count": 10,
   "metadata": {
    "execution": {
     "iopub.execute_input": "2022-03-02T17:07:12.875145Z",
     "iopub.status.busy": "2022-03-02T17:07:12.874306Z",
     "iopub.status.idle": "2022-03-02T17:07:12.885825Z",
     "shell.execute_reply": "2022-03-02T17:07:12.885153Z",
     "shell.execute_reply.started": "2022-03-02T17:07:12.875111Z"
    },
    "trusted": true
   },
   "outputs": [],
   "source": [
    "#Taking data for past 100 days for next prediction\n",
    "time_step = 100\n",
    "\n",
    "X_train, y_train = create_dataset(train_data, time_step)\n",
    "X_test, ytest = create_dataset(test_data, time_step)"
   ]
  },
  {
   "cell_type": "code",
   "execution_count": 11,
   "metadata": {
    "execution": {
     "iopub.execute_input": "2022-03-02T17:07:12.887165Z",
     "iopub.status.busy": "2022-03-02T17:07:12.886856Z",
     "iopub.status.idle": "2022-03-02T17:07:12.898269Z",
     "shell.execute_reply": "2022-03-02T17:07:12.897617Z",
     "shell.execute_reply.started": "2022-03-02T17:07:12.887139Z"
    },
    "trusted": true
   },
   "outputs": [],
   "source": [
    "X_train =X_train.reshape(X_train.shape[0],X_train.shape[1] , 1)\n",
    "X_test = X_test.reshape(X_test.shape[0],X_test.shape[1] , 1)"
   ]
  },
  {
   "cell_type": "code",
   "execution_count": null,
   "metadata": {
    "execution": {
     "iopub.execute_input": "2022-03-02T17:07:12.900106Z",
     "iopub.status.busy": "2022-03-02T17:07:12.899361Z",
     "iopub.status.idle": "2022-03-02T17:48:50.260603Z",
     "shell.execute_reply": "2022-03-02T17:48:50.259282Z",
     "shell.execute_reply.started": "2022-03-02T17:07:12.900070Z"
    },
    "trusted": true
   },
   "outputs": [
    {
     "name": "stdout",
     "output_type": "stream",
     "text": [
      "Trial 5 Complete [00h 08m 53s]\n",
      "val_loss: 0.003724696347489953\n",
      "\n",
      "Best val_loss So Far: 0.0031300268601626158\n",
      "Total elapsed time: 00h 41m 36s\n"
     ]
    }
   ],
   "source": [
    "#Model Building\n",
    "def build_model(hp):\n",
    "    model = Sequential()\n",
    "    model.add(layers.LSTM(units = hp.Choice('layer1_units', [10,20,30,40,50,60,70,80,90,100]),return_sequences=True,input_shape=(100,1)))\n",
    "    \n",
    "    for i in range(hp.Int('num_layers', 2, 15)):                        \n",
    "        model.add(layers.LSTM(units =  hp.Int('units' + str(i), min_value=10, max_value=150, step=10), return_sequences=True))\n",
    "    \n",
    "    model.add(LSTM(units = hp.Choice('last_lstm_units', [50, 100, 150])))\n",
    "    model.add(Dropout(rate = hp.Choice('rate', [0.3, 0.4, 0.5, 0.6, 0.7])))\n",
    "    model.add(Dense(1))\n",
    "    model.compile(loss='mean_squared_error',optimizer='adam' )\n",
    "    return model\n",
    "\n",
    "\n",
    "tuner = RandomSearch(\n",
    "    build_model,\n",
    "    objective='val_loss',\n",
    "    max_trials= 5,\n",
    "    executions_per_trial=3,\n",
    "    directory='project', project_name = 'Stacked_LSTM_Stock_Prediction')\n",
    "\n",
    "tuner.search_space_summary()\n",
    "\n",
    "tuner.search(X_train, y_train,\n",
    "             epochs= 5,\n",
    "             validation_data=(X_test, ytest))"
   ]
  },
  {
   "cell_type": "code",
   "execution_count": 13,
   "metadata": {
    "execution": {
     "iopub.execute_input": "2022-03-02T17:48:50.265286Z",
     "iopub.status.busy": "2022-03-02T17:48:50.264459Z",
     "iopub.status.idle": "2022-03-02T17:48:50.295154Z",
     "shell.execute_reply": "2022-03-02T17:48:50.293872Z",
     "shell.execute_reply.started": "2022-03-02T17:48:50.265249Z"
    },
    "trusted": true
   },
   "outputs": [
    {
     "name": "stdout",
     "output_type": "stream",
     "text": [
      "Results summary\n",
      "Results in project/Stacked_LSTM_Stock_Prediction\n",
      "Showing 10 best trials\n",
      "Objective(name='val_loss', direction='min')\n",
      "Trial summary\n",
      "Hyperparameters:\n",
      "layer1_units: 90\n",
      "num_layers: 13\n",
      "units0: 130\n",
      "units1: 90\n",
      "last_lstm_units: 50\n",
      "rate: 0.7\n",
      "units2: 80\n",
      "units3: 140\n",
      "units4: 30\n",
      "units5: 70\n",
      "units6: 80\n",
      "units7: 140\n",
      "units8: 100\n",
      "units9: 90\n",
      "units10: 80\n",
      "units11: 110\n",
      "units12: 10\n",
      "Score: 0.0031300268601626158\n",
      "Trial summary\n",
      "Hyperparameters:\n",
      "layer1_units: 90\n",
      "num_layers: 7\n",
      "units0: 120\n",
      "units1: 40\n",
      "last_lstm_units: 50\n",
      "rate: 0.4\n",
      "units2: 140\n",
      "units3: 20\n",
      "units4: 20\n",
      "units5: 130\n",
      "units6: 80\n",
      "units7: 120\n",
      "units8: 70\n",
      "units9: 110\n",
      "units10: 20\n",
      "units11: 70\n",
      "units12: 60\n",
      "Score: 0.003224501386284828\n",
      "Trial summary\n",
      "Hyperparameters:\n",
      "layer1_units: 20\n",
      "num_layers: 11\n",
      "units0: 70\n",
      "units1: 90\n",
      "last_lstm_units: 50\n",
      "rate: 0.4\n",
      "units2: 50\n",
      "units3: 40\n",
      "units4: 100\n",
      "units5: 120\n",
      "units6: 50\n",
      "units7: 50\n",
      "units8: 130\n",
      "units9: 110\n",
      "units10: 20\n",
      "units11: 20\n",
      "units12: 110\n",
      "Score: 0.003724696347489953\n",
      "Trial summary\n",
      "Hyperparameters:\n",
      "layer1_units: 50\n",
      "num_layers: 12\n",
      "units0: 110\n",
      "units1: 130\n",
      "last_lstm_units: 150\n",
      "rate: 0.7\n",
      "units2: 50\n",
      "units3: 30\n",
      "units4: 60\n",
      "units5: 90\n",
      "units6: 40\n",
      "units7: 20\n",
      "units8: 110\n",
      "units9: 90\n",
      "units10: 80\n",
      "units11: 130\n",
      "units12: 140\n",
      "Score: 0.003991626591111223\n",
      "Trial summary\n",
      "Hyperparameters:\n",
      "layer1_units: 70\n",
      "num_layers: 12\n",
      "units0: 50\n",
      "units1: 100\n",
      "last_lstm_units: 100\n",
      "rate: 0.4\n",
      "units2: 10\n",
      "units3: 10\n",
      "units4: 10\n",
      "units5: 10\n",
      "units6: 10\n",
      "units7: 10\n",
      "units8: 10\n",
      "units9: 10\n",
      "units10: 10\n",
      "units11: 10\n",
      "Score: 0.004355516905585925\n"
     ]
    }
   ],
   "source": [
    "tuner.results_summary()\n"
   ]
  },
  {
   "cell_type": "code",
   "execution_count": 14,
   "metadata": {
    "execution": {
     "iopub.execute_input": "2022-03-02T17:48:50.297090Z",
     "iopub.status.busy": "2022-03-02T17:48:50.296730Z",
     "iopub.status.idle": "2022-03-02T17:48:56.020774Z",
     "shell.execute_reply": "2022-03-02T17:48:56.019620Z",
     "shell.execute_reply.started": "2022-03-02T17:48:50.297047Z"
    },
    "trusted": true
   },
   "outputs": [
    {
     "name": "stdout",
     "output_type": "stream",
     "text": [
      "Model: \"sequential\"\n",
      "_________________________________________________________________\n",
      "Layer (type)                 Output Shape              Param #   \n",
      "=================================================================\n",
      "lstm (LSTM)                  (None, 100, 90)           33120     \n",
      "_________________________________________________________________\n",
      "lstm_1 (LSTM)                (None, 100, 130)          114920    \n",
      "_________________________________________________________________\n",
      "lstm_2 (LSTM)                (None, 100, 90)           79560     \n",
      "_________________________________________________________________\n",
      "lstm_3 (LSTM)                (None, 100, 80)           54720     \n",
      "_________________________________________________________________\n",
      "lstm_4 (LSTM)                (None, 100, 140)          123760    \n",
      "_________________________________________________________________\n",
      "lstm_5 (LSTM)                (None, 100, 30)           20520     \n",
      "_________________________________________________________________\n",
      "lstm_6 (LSTM)                (None, 100, 70)           28280     \n",
      "_________________________________________________________________\n",
      "lstm_7 (LSTM)                (None, 100, 80)           48320     \n",
      "_________________________________________________________________\n",
      "lstm_8 (LSTM)                (None, 100, 140)          123760    \n",
      "_________________________________________________________________\n",
      "lstm_9 (LSTM)                (None, 100, 100)          96400     \n",
      "_________________________________________________________________\n",
      "lstm_10 (LSTM)               (None, 100, 90)           68760     \n",
      "_________________________________________________________________\n",
      "lstm_11 (LSTM)               (None, 100, 80)           54720     \n",
      "_________________________________________________________________\n",
      "lstm_12 (LSTM)               (None, 100, 110)          84040     \n",
      "_________________________________________________________________\n",
      "lstm_13 (LSTM)               (None, 100, 10)           4840      \n",
      "_________________________________________________________________\n",
      "lstm_14 (LSTM)               (None, 50)                12200     \n",
      "_________________________________________________________________\n",
      "dropout (Dropout)            (None, 50)                0         \n",
      "_________________________________________________________________\n",
      "dense (Dense)                (None, 1)                 51        \n",
      "=================================================================\n",
      "Total params: 947,971\n",
      "Trainable params: 947,971\n",
      "Non-trainable params: 0\n",
      "_________________________________________________________________\n"
     ]
    }
   ],
   "source": [
    "model=tuner.get_best_models(num_models=1)[0]\n",
    "model.summary()"
   ]
  },
  {
   "cell_type": "code",
   "execution_count": 15,
   "metadata": {
    "execution": {
     "iopub.execute_input": "2022-03-02T17:48:56.022349Z",
     "iopub.status.busy": "2022-03-02T17:48:56.022102Z",
     "iopub.status.idle": "2022-03-02T18:50:09.241288Z",
     "shell.execute_reply": "2022-03-02T18:50:09.240504Z",
     "shell.execute_reply.started": "2022-03-02T17:48:56.022318Z"
    },
    "trusted": true
   },
   "outputs": [
    {
     "name": "stdout",
     "output_type": "stream",
     "text": [
      "Epoch 1/100\n",
      "23/23 [==============================] - 71s 2s/step - loss: 0.0301 - val_loss: 0.0083\n",
      "Epoch 2/100\n",
      "23/23 [==============================] - 36s 2s/step - loss: 0.0333 - val_loss: 0.0037\n",
      "Epoch 3/100\n",
      "23/23 [==============================] - 37s 2s/step - loss: 0.0309 - val_loss: 0.0119\n",
      "Epoch 4/100\n",
      "23/23 [==============================] - 37s 2s/step - loss: 0.0295 - val_loss: 0.0029\n",
      "Epoch 5/100\n",
      "23/23 [==============================] - 36s 2s/step - loss: 0.0242 - val_loss: 0.0055\n",
      "Epoch 6/100\n",
      "23/23 [==============================] - 36s 2s/step - loss: 0.0238 - val_loss: 0.0032\n",
      "Epoch 7/100\n",
      "23/23 [==============================] - 36s 2s/step - loss: 0.0198 - val_loss: 0.0051\n",
      "Epoch 8/100\n",
      "23/23 [==============================] - 37s 2s/step - loss: 0.0245 - val_loss: 0.0017\n",
      "Epoch 9/100\n",
      "23/23 [==============================] - 36s 2s/step - loss: 0.0257 - val_loss: 0.0071\n",
      "Epoch 10/100\n",
      "23/23 [==============================] - 37s 2s/step - loss: 0.0234 - val_loss: 0.0020\n",
      "Epoch 11/100\n",
      "23/23 [==============================] - 37s 2s/step - loss: 0.0199 - val_loss: 0.0057\n",
      "Epoch 12/100\n",
      "23/23 [==============================] - 38s 2s/step - loss: 0.0201 - val_loss: 0.0165\n",
      "Epoch 13/100\n",
      "23/23 [==============================] - 38s 2s/step - loss: 0.0246 - val_loss: 0.0099\n",
      "Epoch 14/100\n",
      "23/23 [==============================] - 37s 2s/step - loss: 0.0154 - val_loss: 0.0035\n",
      "Epoch 15/100\n",
      "23/23 [==============================] - 36s 2s/step - loss: 0.0186 - val_loss: 0.0026\n",
      "Epoch 16/100\n",
      "23/23 [==============================] - 36s 2s/step - loss: 0.0150 - val_loss: 0.0016\n",
      "Epoch 17/100\n",
      "23/23 [==============================] - 37s 2s/step - loss: 0.0109 - val_loss: 0.0017\n",
      "Epoch 18/100\n",
      "23/23 [==============================] - 36s 2s/step - loss: 0.0136 - val_loss: 0.0019\n",
      "Epoch 19/100\n",
      "23/23 [==============================] - 36s 2s/step - loss: 0.0181 - val_loss: 0.0019\n",
      "Epoch 20/100\n",
      "23/23 [==============================] - 36s 2s/step - loss: 0.0131 - val_loss: 0.0033\n",
      "Epoch 21/100\n",
      "23/23 [==============================] - 37s 2s/step - loss: 0.0133 - val_loss: 0.0025\n",
      "Epoch 22/100\n",
      "23/23 [==============================] - 36s 2s/step - loss: 0.0223 - val_loss: 0.0360\n",
      "Epoch 23/100\n",
      "23/23 [==============================] - 36s 2s/step - loss: 0.0228 - val_loss: 0.0144\n",
      "Epoch 24/100\n",
      "23/23 [==============================] - 36s 2s/step - loss: 0.0190 - val_loss: 0.0059\n",
      "Epoch 25/100\n",
      "23/23 [==============================] - 36s 2s/step - loss: 0.0180 - val_loss: 0.0039\n",
      "Epoch 26/100\n",
      "23/23 [==============================] - 36s 2s/step - loss: 0.0147 - val_loss: 0.0018\n",
      "Epoch 27/100\n",
      "23/23 [==============================] - 36s 2s/step - loss: 0.0149 - val_loss: 0.0013\n",
      "Epoch 28/100\n",
      "23/23 [==============================] - 37s 2s/step - loss: 0.0140 - val_loss: 0.0014\n",
      "Epoch 29/100\n",
      "23/23 [==============================] - 37s 2s/step - loss: 0.0145 - val_loss: 0.0058\n",
      "Epoch 30/100\n",
      "23/23 [==============================] - 37s 2s/step - loss: 0.0137 - val_loss: 0.0026\n",
      "Epoch 31/100\n",
      "23/23 [==============================] - 36s 2s/step - loss: 0.0137 - val_loss: 0.0064\n",
      "Epoch 32/100\n",
      "23/23 [==============================] - 36s 2s/step - loss: 0.0107 - val_loss: 9.8680e-04\n",
      "Epoch 33/100\n",
      "23/23 [==============================] - 36s 2s/step - loss: 0.0122 - val_loss: 9.1394e-04\n",
      "Epoch 34/100\n",
      "23/23 [==============================] - 36s 2s/step - loss: 0.0100 - val_loss: 0.0030\n",
      "Epoch 35/100\n",
      "23/23 [==============================] - 36s 2s/step - loss: 0.0206 - val_loss: 0.0034\n",
      "Epoch 36/100\n",
      "23/23 [==============================] - 36s 2s/step - loss: 0.0106 - val_loss: 0.0020\n",
      "Epoch 37/100\n",
      "23/23 [==============================] - 36s 2s/step - loss: 0.0092 - val_loss: 0.0019\n",
      "Epoch 38/100\n",
      "23/23 [==============================] - 37s 2s/step - loss: 0.0084 - val_loss: 9.1351e-04\n",
      "Epoch 39/100\n",
      "23/23 [==============================] - 36s 2s/step - loss: 0.0104 - val_loss: 7.9111e-04\n",
      "Epoch 40/100\n",
      "23/23 [==============================] - 36s 2s/step - loss: 0.0096 - val_loss: 0.0012\n",
      "Epoch 41/100\n",
      "23/23 [==============================] - 36s 2s/step - loss: 0.0089 - val_loss: 0.0012\n",
      "Epoch 42/100\n",
      "23/23 [==============================] - 36s 2s/step - loss: 0.0089 - val_loss: 0.0031\n",
      "Epoch 43/100\n",
      "23/23 [==============================] - 36s 2s/step - loss: 0.0085 - val_loss: 0.0021\n",
      "Epoch 44/100\n",
      "23/23 [==============================] - 36s 2s/step - loss: 0.0093 - val_loss: 0.0013\n",
      "Epoch 45/100\n",
      "23/23 [==============================] - 36s 2s/step - loss: 0.0079 - val_loss: 7.7564e-04\n",
      "Epoch 46/100\n",
      "23/23 [==============================] - 36s 2s/step - loss: 0.0092 - val_loss: 0.0013\n",
      "Epoch 47/100\n",
      "23/23 [==============================] - 36s 2s/step - loss: 0.0077 - val_loss: 0.0011\n",
      "Epoch 48/100\n",
      "23/23 [==============================] - 36s 2s/step - loss: 0.0067 - val_loss: 6.9174e-04\n",
      "Epoch 49/100\n",
      "23/23 [==============================] - 36s 2s/step - loss: 0.0065 - val_loss: 9.9779e-04\n",
      "Epoch 50/100\n",
      "23/23 [==============================] - 36s 2s/step - loss: 0.0080 - val_loss: 0.0018\n",
      "Epoch 51/100\n",
      "23/23 [==============================] - 36s 2s/step - loss: 0.0182 - val_loss: 0.0010\n",
      "Epoch 52/100\n",
      "23/23 [==============================] - 37s 2s/step - loss: 0.0206 - val_loss: 0.0052\n",
      "Epoch 53/100\n",
      "23/23 [==============================] - 36s 2s/step - loss: 0.0140 - val_loss: 0.0016\n",
      "Epoch 54/100\n",
      "23/23 [==============================] - 36s 2s/step - loss: 0.0129 - val_loss: 0.0147\n",
      "Epoch 55/100\n",
      "23/23 [==============================] - 37s 2s/step - loss: 0.0118 - val_loss: 0.0012\n",
      "Epoch 56/100\n",
      "23/23 [==============================] - 36s 2s/step - loss: 0.0081 - val_loss: 0.0016\n",
      "Epoch 57/100\n",
      "23/23 [==============================] - 36s 2s/step - loss: 0.0099 - val_loss: 0.0010\n",
      "Epoch 58/100\n",
      "23/23 [==============================] - 36s 2s/step - loss: 0.0085 - val_loss: 9.8127e-04\n",
      "Epoch 59/100\n",
      "23/23 [==============================] - 36s 2s/step - loss: 0.0089 - val_loss: 9.9726e-04\n",
      "Epoch 60/100\n",
      "23/23 [==============================] - 36s 2s/step - loss: 0.0077 - val_loss: 0.0012\n",
      "Epoch 61/100\n",
      "23/23 [==============================] - 36s 2s/step - loss: 0.0079 - val_loss: 8.3126e-04\n",
      "Epoch 62/100\n",
      "23/23 [==============================] - 37s 2s/step - loss: 0.0071 - val_loss: 0.0012\n",
      "Epoch 63/100\n",
      "23/23 [==============================] - 37s 2s/step - loss: 0.0081 - val_loss: 7.5818e-04\n",
      "Epoch 64/100\n",
      "23/23 [==============================] - 36s 2s/step - loss: 0.0074 - val_loss: 0.0024\n",
      "Epoch 65/100\n",
      "23/23 [==============================] - 37s 2s/step - loss: 0.0073 - val_loss: 8.3949e-04\n",
      "Epoch 66/100\n",
      "23/23 [==============================] - 36s 2s/step - loss: 0.0089 - val_loss: 0.0016\n",
      "Epoch 67/100\n",
      "23/23 [==============================] - 36s 2s/step - loss: 0.0072 - val_loss: 0.0012\n",
      "Epoch 68/100\n",
      "23/23 [==============================] - 37s 2s/step - loss: 0.0062 - val_loss: 7.2584e-04\n",
      "Epoch 69/100\n",
      "23/23 [==============================] - 37s 2s/step - loss: 0.0061 - val_loss: 8.4148e-04\n",
      "Epoch 70/100\n",
      "23/23 [==============================] - 37s 2s/step - loss: 0.0072 - val_loss: 9.0580e-04\n",
      "Epoch 71/100\n",
      "23/23 [==============================] - 37s 2s/step - loss: 0.0083 - val_loss: 0.0012\n",
      "Epoch 72/100\n",
      "23/23 [==============================] - 37s 2s/step - loss: 0.0071 - val_loss: 8.7733e-04\n",
      "Epoch 73/100\n",
      "23/23 [==============================] - 36s 2s/step - loss: 0.0065 - val_loss: 7.6636e-04\n",
      "Epoch 74/100\n",
      "23/23 [==============================] - 36s 2s/step - loss: 0.0083 - val_loss: 0.0018\n",
      "Epoch 75/100\n",
      "23/23 [==============================] - 36s 2s/step - loss: 0.0074 - val_loss: 0.0013\n",
      "Epoch 76/100\n",
      "23/23 [==============================] - 36s 2s/step - loss: 0.0063 - val_loss: 9.5338e-04\n",
      "Epoch 77/100\n",
      "23/23 [==============================] - 36s 2s/step - loss: 0.0077 - val_loss: 0.0043\n",
      "Epoch 78/100\n",
      "23/23 [==============================] - 37s 2s/step - loss: 0.0070 - val_loss: 0.0015\n",
      "Epoch 79/100\n",
      "23/23 [==============================] - 37s 2s/step - loss: 0.0086 - val_loss: 0.0010\n",
      "Epoch 80/100\n",
      "23/23 [==============================] - 36s 2s/step - loss: 0.0082 - val_loss: 0.0084\n",
      "Epoch 81/100\n",
      "23/23 [==============================] - 36s 2s/step - loss: 0.0085 - val_loss: 0.0010\n",
      "Epoch 82/100\n",
      "23/23 [==============================] - 36s 2s/step - loss: 0.0081 - val_loss: 0.0042\n",
      "Epoch 83/100\n",
      "23/23 [==============================] - 36s 2s/step - loss: 0.0091 - val_loss: 0.0018\n",
      "Epoch 84/100\n",
      "23/23 [==============================] - 36s 2s/step - loss: 0.0081 - val_loss: 6.8624e-04\n",
      "Epoch 85/100\n",
      "23/23 [==============================] - 37s 2s/step - loss: 0.0062 - val_loss: 6.7149e-04\n",
      "Epoch 86/100\n",
      "23/23 [==============================] - 37s 2s/step - loss: 0.0060 - val_loss: 5.8457e-04\n",
      "Epoch 87/100\n",
      "23/23 [==============================] - 36s 2s/step - loss: 0.0064 - val_loss: 0.0014\n",
      "Epoch 88/100\n",
      "23/23 [==============================] - 36s 2s/step - loss: 0.0072 - val_loss: 7.7887e-04\n",
      "Epoch 89/100\n",
      "23/23 [==============================] - 37s 2s/step - loss: 0.0073 - val_loss: 5.0795e-04\n",
      "Epoch 90/100\n",
      "23/23 [==============================] - 36s 2s/step - loss: 0.0066 - val_loss: 5.0173e-04\n",
      "Epoch 91/100\n",
      "23/23 [==============================] - 36s 2s/step - loss: 0.0066 - val_loss: 5.3359e-04\n",
      "Epoch 92/100\n",
      "23/23 [==============================] - 36s 2s/step - loss: 0.0065 - val_loss: 6.5399e-04\n",
      "Epoch 93/100\n",
      "23/23 [==============================] - 36s 2s/step - loss: 0.0075 - val_loss: 6.8296e-04\n",
      "Epoch 94/100\n",
      "23/23 [==============================] - 36s 2s/step - loss: 0.0059 - val_loss: 0.0019\n",
      "Epoch 95/100\n",
      "23/23 [==============================] - 37s 2s/step - loss: 0.0060 - val_loss: 0.0010\n",
      "Epoch 96/100\n",
      "23/23 [==============================] - 37s 2s/step - loss: 0.0052 - val_loss: 5.5826e-04\n",
      "Epoch 97/100\n",
      "23/23 [==============================] - 37s 2s/step - loss: 0.0078 - val_loss: 0.0012\n",
      "Epoch 98/100\n",
      "23/23 [==============================] - 36s 2s/step - loss: 0.0059 - val_loss: 9.6019e-04\n",
      "Epoch 99/100\n",
      "23/23 [==============================] - 37s 2s/step - loss: 0.0056 - val_loss: 9.5178e-04\n",
      "Epoch 100/100\n",
      "23/23 [==============================] - 36s 2s/step - loss: 0.0064 - val_loss: 0.0020\n"
     ]
    }
   ],
   "source": [
    "model_history = model.fit(X_train,y_train, epochs=100, validation_data=(X_test,ytest))"
   ]
  },
  {
   "cell_type": "code",
   "execution_count": 16,
   "metadata": {
    "_kg_hide-output": true,
    "execution": {
     "iopub.execute_input": "2022-03-02T18:50:09.242951Z",
     "iopub.status.busy": "2022-03-02T18:50:09.242668Z",
     "iopub.status.idle": "2022-03-02T18:50:09.951472Z",
     "shell.execute_reply": "2022-03-02T18:50:09.950485Z",
     "shell.execute_reply.started": "2022-03-02T18:50:09.242918Z"
    },
    "trusted": true
   },
   "outputs": [
    {
     "data": {
      "image/png": "[encoded data removed]",
      "text/plain": [
       "<Figure size 1224x504 with 1 Axes>"
      ]
     },
     "metadata": {
      "needs_background": "light"
     },
     "output_type": "display_data"
    }
   ],
   "source": [
    "loss = model_history.history['loss']\n",
    "validation_loss = model_history.history['val_loss']\n",
    "\n",
    "\n",
    "\n",
    "plt.figure(figsize=(17, 7));\n",
    "plt.plot(range(100), loss, label='Training Loss');\n",
    "plt.plot(range(100), validation_loss, label='Validation Loss');\n",
    "plt.legend(loc='upper left');\n",
    "plt.title('Loss : Training Vs Validation ');"
   ]
  },
  {
   "cell_type": "code",
   "execution_count": 17,
   "metadata": {
    "execution": {
     "iopub.execute_input": "2022-03-02T18:50:09.953357Z",
     "iopub.status.busy": "2022-03-02T18:50:09.953036Z",
     "iopub.status.idle": "2022-03-02T18:50:29.036511Z",
     "shell.execute_reply": "2022-03-02T18:50:29.035814Z",
     "shell.execute_reply.started": "2022-03-02T18:50:09.953315Z"
    },
    "trusted": true
   },
   "outputs": [],
   "source": [
    "train_predict=model.predict(X_train)\n",
    "test_predict=model.predict(X_test)"
   ]
  },
  {
   "cell_type": "code",
   "execution_count": 18,
   "metadata": {
    "execution": {
     "iopub.execute_input": "2022-03-02T18:50:29.037948Z",
     "iopub.status.busy": "2022-03-02T18:50:29.037680Z",
     "iopub.status.idle": "2022-03-02T18:50:29.044557Z",
     "shell.execute_reply": "2022-03-02T18:50:29.043768Z",
     "shell.execute_reply.started": "2022-03-02T18:50:29.037918Z"
    },
    "trusted": true
   },
   "outputs": [],
   "source": [
    "train_predict=scaler.inverse_transform(train_predict)\n",
    "test_predict=scaler.inverse_transform(test_predict)"
   ]
  },
  {
   "cell_type": "code",
   "execution_count": 19,
   "metadata": {
    "execution": {
     "iopub.execute_input": "2022-03-02T18:50:29.046192Z",
     "iopub.status.busy": "2022-03-02T18:50:29.045791Z",
     "iopub.status.idle": "2022-03-02T18:50:29.277037Z",
     "shell.execute_reply": "2022-03-02T18:50:29.276165Z",
     "shell.execute_reply.started": "2022-03-02T18:50:29.046161Z"
    },
    "trusted": true
   },
   "outputs": [
    {
     "data": {
      "image/png": "[encoded data removed]",
      "text/plain": [
       "<Figure size 432x288 with 1 Axes>"
      ]
     },
     "metadata": {
      "needs_background": "light"
     },
     "output_type": "display_data"
    }
   ],
   "source": [
    "look_back=100\n",
    "trainPredictPlot = np.empty_like(df_closing)\n",
    "trainPredictPlot[:, :] = np.nan\n",
    "trainPredictPlot[look_back:len(train_predict)+look_back, :] = train_predict\n",
    "\n",
    "# shift test predictions for plotting\n",
    "testPredictPlot = np.empty_like(df_closing)\n",
    "testPredictPlot[:, :] = np.nan\n",
    "testPredictPlot[len(train_predict)+(look_back*2)+1:len(df_closing)-1, :] = test_predict\n",
    "\n",
    "plt.plot(scaler.inverse_transform(df_closing))\n",
    "plt.plot(trainPredictPlot)\n",
    "plt.plot(testPredictPlot)\n",
    "plt.title('Train Vs Test predictions');\n",
    "plt.show()\n"
   ]
  },
  {
   "cell_type": "code",
   "execution_count": null,
   "metadata": {
    "execution": {
     "iopub.execute_input": "2022-03-02T18:50:29.278785Z",
     "iopub.status.busy": "2022-03-02T18:50:29.278541Z",
     "iopub.status.idle": "2022-03-02T18:50:56.407772Z",
     "shell.execute_reply": "2022-03-02T18:50:56.406754Z",
     "shell.execute_reply.started": "2022-03-02T18:50:29.278733Z"
    },
    "trusted": true
   },
   "outputs": [
    {
     "data": {
      "image/png": "[encoded data removed]",
      "text/plain": [
       "<Figure size 432x288 with 1 Axes>"
      ]
     },
     "metadata": {
      "needs_background": "light"
     },
     "output_type": "display_data"
    }
   ],
   "source": [
    "#Predictig for next 10 Days\n",
    "future_predictions = test_data.copy()\n",
    "for i in range(100):\n",
    "    new_prediction = model.predict(((future_predictions[341+i:])).reshape(1,100,1))\n",
    "    future_predictions = np.append(future_predictions, new_prediction)\n",
    "    \n",
    "plt.plot(scaler.inverse_transform(future_predictions[441:].reshape(-1, 1)));\n",
    "plt.title('Predictions for the next 10 days');\n",
    "plt.xlabel('Days');\n",
    "plt.ylabel('Closing stocks');\n"
   ]
  },
  {
   "cell_type": "code",
   "execution_count": 21,
   "metadata": {
    "execution": {
     "iopub.execute_input": "2022-03-02T18:50:56.409399Z",
     "iopub.status.busy": "2022-03-02T18:50:56.409176Z",
     "iopub.status.idle": "2022-03-02T18:50:56.416861Z",
     "shell.execute_reply": "2022-03-02T18:50:56.415897Z",
     "shell.execute_reply.started": "2022-03-02T18:50:56.409372Z"
    },
    "trusted": true
   },
   "outputs": [
    {
     "name": "stdout",
     "output_type": "stream",
     "text": [
      "Train RMSE:  739.7700492279813\n",
      "Test RMSE:  701.8448657841902\n"
     ]
    }
   ],
   "source": [
    "print(\"Train RMSE: \", math.sqrt(mean_squared_error(y_train,train_predict)))\n",
    "print(\"Test RMSE: \", math.sqrt(mean_squared_error(ytest,test_predict)))\n"
   ]
  },
  {
   "cell_type": "markdown",
   "metadata": {},
   "source": [
    "# The model is performing pretty well, train and test MSE are close."
   ]
  }
 ],
 "metadata": {
  "kernelspec": {
   "display_name": "Python 3",
   "language": "python",
   "name": "python3"
  },
  "language_info": {
   "codemirror_mode": {
    "name": "ipython",
    "version": 3
   },
   "file_extension": ".py",
   "mimetype": "text/x-python",
   "name": "python",
   "nbconvert_exporter": "python",
   "pygments_lexer": "ipython3",
   "version": "3.7.10"
  }
 },
 "nbformat": 4,
 "nbformat_minor": 4
}
